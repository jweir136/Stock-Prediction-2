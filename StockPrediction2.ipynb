{
  "nbformat": 4,
  "nbformat_minor": 0,
  "metadata": {
    "colab": {
      "name": "StockPrediction2.ipynb",
      "version": "0.3.2",
      "provenance": [],
      "collapsed_sections": [],
      "include_colab_link": true
    },
    "kernelspec": {
      "name": "python3",
      "display_name": "Python 3"
    }
  },
  "cells": [
    {
      "cell_type": "markdown",
      "metadata": {
        "id": "view-in-github",
        "colab_type": "text"
      },
      "source": [
        "<a href=\"https://colab.research.google.com/github/jweir136/Stock-Prediction-2/blob/master/StockPrediction2.ipynb\" target=\"_parent\"><img src=\"https://colab.research.google.com/assets/colab-badge.svg\" alt=\"Open In Colab\"/></a>"
      ]
    },
    {
      "metadata": {
        "id": "sF_51bYznJSV",
        "colab_type": "code",
        "colab": {
          "base_uri": "https://localhost:8080/",
          "height": 136
        },
        "outputId": "66722a4d-9a2c-4eb2-f8d8-2c8439b3890b"
      },
      "cell_type": "code",
      "source": [
        "import pandas as pd\n",
        "import numpy as np\n",
        "import matplotlib.pyplot as plt\n",
        "from sklearn.linear_model import LinearRegression\n",
        "from sklearn.pipeline import Pipeline\n",
        "from sklearn.preprocessing import StandardScaler\n",
        "from sklearn.model_selection import cross_val_score, learning_curve, train_test_split\n",
        "\n",
        "%matplotlib inline\n",
        "\n",
        "!pip install stockstats\n",
        "\n",
        "from stockstats import StockDataFrame as Sdf\n",
        "\n",
        "np.random.seed(42)\n",
        "\n",
        "F = pd.read_csv(\"F.csv\")\n",
        "RACE = pd.read_csv(\"RACE.csv\")\n",
        "TSLA = pd.read_csv(\"TSLA.csv\")"
      ],
      "execution_count": 69,
      "outputs": [
        {
          "output_type": "stream",
          "text": [
            "Requirement already satisfied: stockstats in /usr/local/lib/python3.6/dist-packages (0.2.0)\n",
            "Requirement already satisfied: int-date>=0.1.7 in /usr/local/lib/python3.6/dist-packages (from stockstats) (0.1.8)\n",
            "Requirement already satisfied: numpy>=1.9.2 in /usr/local/lib/python3.6/dist-packages (from stockstats) (1.14.6)\n",
            "Requirement already satisfied: pandas>=0.18.1 in /usr/local/lib/python3.6/dist-packages (from stockstats) (0.22.0)\n",
            "Requirement already satisfied: python-dateutil>=2.4.2 in /usr/local/lib/python3.6/dist-packages (from int-date>=0.1.7->stockstats) (2.5.3)\n",
            "Requirement already satisfied: six>=1.9.0 in /usr/local/lib/python3.6/dist-packages (from int-date>=0.1.7->stockstats) (1.11.0)\n",
            "Requirement already satisfied: pytz>=2011k in /usr/local/lib/python3.6/dist-packages (from pandas>=0.18.1->stockstats) (2018.7)\n"
          ],
          "name": "stdout"
        }
      ]
    },
    {
      "metadata": {
        "id": "5jA4IGF3nuEL",
        "colab_type": "code",
        "colab": {}
      },
      "cell_type": "code",
      "source": [
        "F_stock = Sdf.retype(F)\n",
        "RACE_stock = Sdf.retype(RACE)\n",
        "TSLA_stock = Sdf.retype(TSLA)"
      ],
      "execution_count": 0,
      "outputs": []
    },
    {
      "metadata": {
        "id": "uHwofrLRn3W0",
        "colab_type": "code",
        "colab": {}
      },
      "cell_type": "code",
      "source": [
        "F['sma'] = F_stock['close_10_sma']\n",
        "F['boll'] = F_stock['boll']\n",
        "\n",
        "RACE['sma'] = RACE_stock['close_10_sma']\n",
        "RACE['boll'] = RACE_stock['boll']\n",
        "\n",
        "TSLA['sma'] = TSLA_stock['close_10_sma']\n",
        "TSLA['boll'] = TSLA_stock['boll']"
      ],
      "execution_count": 0,
      "outputs": []
    },
    {
      "metadata": {
        "id": "JPn1xQIco2RQ",
        "colab_type": "code",
        "colab": {}
      },
      "cell_type": "code",
      "source": [
        "F_X = F[['sma', 'boll']].shift(10).dropna()\n",
        "F_y = F['adj close'][10:]\n",
        "\n",
        "F_trainX, F_testX, F_trainY, F_testY = train_test_split(F_X.values, F_y.values, test_size=.2)\n",
        "\n",
        "RACE_X = RACE[['sma', 'boll']].shift(10).dropna()\n",
        "RACE_y = RACE['adj close'][10:]\n",
        "\n",
        "RACE_trainX, RACE_testX, RACE_trainY, RACE_testY = train_test_split(RACE_X.values, RACE_y.values, test_size=.2)\n",
        "\n",
        "TSLSA_X = TSLA[['sma', 'boll']].shift(10).dropna()\n",
        "TSLA_y = TSLA['adj close'][10:]\n",
        "\n",
        "TSLA_trainX, TSLA_testX, TSLA_trainY, TSLA_testY = train_test_split(TSLA_X.values, TSLA_y.values, test_size=.2)"
      ],
      "execution_count": 0,
      "outputs": []
    },
    {
      "metadata": {
        "id": "nFca2gJjq1OF",
        "colab_type": "code",
        "colab": {}
      },
      "cell_type": "code",
      "source": [
        "lr = Pipeline([\n",
        "    #(\"scaler\", StandardScaler()),\n",
        "    (\"lr\", LinearRegression())\n",
        "])"
      ],
      "execution_count": 0,
      "outputs": []
    },
    {
      "metadata": {
        "id": "MPxWqFYOq6pN",
        "colab_type": "code",
        "colab": {}
      },
      "cell_type": "code",
      "source": [
        "F_score = cross_val_score(lr, F_trainX, F_trainY, cv=10, scoring='neg_mean_squared_error')\n",
        "RACE_score = cross_val_score(lr, RACE_trainX, RACE_trainY, cv=10, scoring='neg_mean_squared_error')\n",
        "TSLA_score = cross_val_score(lr, TSLA_trainX, TSLA_trainY, cv=10, scoring='neg_mean_squared_error')"
      ],
      "execution_count": 0,
      "outputs": []
    },
    {
      "metadata": {
        "id": "5UasUjunsNGd",
        "colab_type": "code",
        "colab": {
          "base_uri": "https://localhost:8080/",
          "height": 68
        },
        "outputId": "af91ef18-1ff6-43ae-c3d3-0b71797596a4"
      },
      "cell_type": "code",
      "source": [
        "lr.fit(RACE_trainX, RACE_trainY)\n",
        "print(\"RACE score: {}\".format(lr.score(RACE_testX, RACE_testY)))\n",
        "\n",
        "lr.fit(F_trainX, F_trainY)\n",
        "print(\"F score: {}\".format(lr.score(F_testX, F_testY)))\n",
        "\n",
        "lr.fit(TSLA_trainX, TSLA_trainY)\n",
        "print(\"TSLA score: {}\".format(lr.score(TSLA_testX, TSLA_testY)))"
      ],
      "execution_count": 75,
      "outputs": [
        {
          "output_type": "stream",
          "text": [
            "RACE score: 0.9725756084239928\n",
            "F score: 0.8948068671494994\n",
            "TSLA score: 0.973466584869915\n"
          ],
          "name": "stdout"
        }
      ]
    },
    {
      "metadata": {
        "id": "4m3nJu1ZtIVH",
        "colab_type": "code",
        "colab": {
          "base_uri": "https://localhost:8080/",
          "height": 297
        },
        "outputId": "b74794c4-6393-4865-a23d-84d65de5ed77"
      },
      "cell_type": "code",
      "source": [
        "train_sizes = [1, 100, 1000, 2308]\n",
        "\n",
        "train_size, train_score, test_score = learning_curve(\n",
        "  estimator=lr,\n",
        "  X=F_trainX,\n",
        "  y=F_trainY,\n",
        "  scoring='neg_mean_squared_error',\n",
        "  cv=5,\n",
        "  train_sizes=train_sizes\n",
        ")\n",
        "\n",
        "mean_train = -train_score.mean(axis=1)\n",
        "mean_test = -test_score.mean(axis=1)\n",
        "\n",
        "plt.title(\"F\")\n",
        "plt.plot(train_size, mean_train, 'r-', label='train')\n",
        "plt.plot(train_size, mean_test, 'g-', label='test')"
      ],
      "execution_count": 76,
      "outputs": [
        {
          "output_type": "execute_result",
          "data": {
            "text/plain": [
              "[<matplotlib.lines.Line2D at 0x7f4ef5f9f630>]"
            ]
          },
          "metadata": {
            "tags": []
          },
          "execution_count": 76
        },
        {
          "output_type": "display_data",
          "data": {
            "image/png": "[encoded data removed]",
            "text/plain": [
              "<matplotlib.figure.Figure at 0x7f4ef6244cf8>"
            ]
          },
          "metadata": {
            "tags": []
          }
        }
      ]
    },
    {
      "metadata": {
        "id": "ikabgQeiuCok",
        "colab_type": "code",
        "colab": {
          "base_uri": "https://localhost:8080/",
          "height": 297
        },
        "outputId": "e44fd775-cb1e-4e4b-fc26-9c1cf1fe4b08"
      },
      "cell_type": "code",
      "source": [
        "train_sizes = [1, 200, 571]\n",
        "\n",
        "train_size, train_score, test_score = learning_curve(\n",
        "  estimator=lr,\n",
        "  X=RACE_trainX,\n",
        "  y=RACE_trainY,\n",
        "  cv=10,\n",
        "  scoring='neg_mean_squared_error',\n",
        "  train_sizes=train_sizes\n",
        ")\n",
        "\n",
        "mean_train = -train_score.mean(axis=1)\n",
        "mean_test = -test_score.mean(axis=1)\n",
        "\n",
        "plt.title(\"RACE\")\n",
        "plt.plot(train_size, mean_train, 'r-', label='train')\n",
        "plt.plot(train_size, mean_test, 'g-', label='test')"
      ],
      "execution_count": 77,
      "outputs": [
        {
          "output_type": "execute_result",
          "data": {
            "text/plain": [
              "[<matplotlib.lines.Line2D at 0x7f4ef5f83358>]"
            ]
          },
          "metadata": {
            "tags": []
          },
          "execution_count": 77
        },
        {
          "output_type": "display_data",
          "data": {
            "image/png": "[encoded data removed]",
            "text/plain": [
              "<matplotlib.figure.Figure at 0x7f4ef5ffd438>"
            ]
          },
          "metadata": {
            "tags": []
          }
        }
      ]
    },
    {
      "metadata": {
        "id": "IqeEe1hUumhE",
        "colab_type": "code",
        "colab": {
          "base_uri": "https://localhost:8080/",
          "height": 297
        },
        "outputId": "4bb87aac-d65a-48eb-cd80-b762abd8e121"
      },
      "cell_type": "code",
      "source": [
        "train_sizes = [1, 200, 571]\n",
        "\n",
        "train_size, train_score, test_score = learning_curve(\n",
        "  estimator=lr,\n",
        "  X=TSLA_trainX,\n",
        "  y=TSLA_trainY,\n",
        "  cv=10,\n",
        "  scoring='neg_mean_squared_error',\n",
        "  train_sizes=train_sizes\n",
        ")\n",
        "\n",
        "mean_train = -train_score.mean(axis=1)\n",
        "mean_test = -test_score.mean(axis=1)\n",
        "\n",
        "plt.title(\"TSLA\")\n",
        "plt.plot(train_size, mean_train, 'r-', label='train')\n",
        "plt.plot(train_size, mean_test, 'g-', label='test')"
      ],
      "execution_count": 78,
      "outputs": [
        {
          "output_type": "execute_result",
          "data": {
            "text/plain": [
              "[<matplotlib.lines.Line2D at 0x7f4ef5edc780>]"
            ]
          },
          "metadata": {
            "tags": []
          },
          "execution_count": 78
        },
        {
          "output_type": "display_data",
          "data": {
            "image/png": "[encoded data removed]",
            "text/plain": [
              "<matplotlib.figure.Figure at 0x7f4ef5f5aeb8>"
            ]
          },
          "metadata": {
            "tags": []
          }
        }
      ]
    }
  ]
}